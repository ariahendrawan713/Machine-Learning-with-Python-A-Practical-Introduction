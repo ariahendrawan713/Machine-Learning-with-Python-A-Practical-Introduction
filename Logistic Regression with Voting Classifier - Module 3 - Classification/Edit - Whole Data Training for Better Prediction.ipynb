{
 "cells": [
  {
   "cell_type": "code",
   "execution_count": 3,
   "metadata": {},
   "outputs": [
    {
     "name": "stdout",
     "output_type": "stream",
     "text": [
      "1\n",
      "2\n",
      "3\n",
      "4\n",
      "5\n",
      "6\n",
      "None\n",
      "False True\n"
     ]
    }
   ],
   "source": [
    "import pandas as pd\n",
    "pd.options.display.max_columns = None # display all the columns\n",
    "\n",
    "import numpy as np\n",
    "from sklearn.metrics import roc_auc_score\n",
    "from sklearn.metrics import confusion_matrix\n",
    "\n",
    "# load dataset\n",
    "\n",
    "df_original = pd.read_csv('Data_features.csv') # feature set\n",
    "obs = pd.read_csv('Data_train_set.csv') # User ID, Churn\n",
    "est = pd.read_csv('Data_test_set.csv')  # User ID to predict Churn\n",
    "obs_id = obs['ID'].values # IDs in factual data\n",
    "est_id = est['ID'].values # IDs to analyse\n",
    "df = df_original[df_original.ID.isin(obs_id)] # df for training\n",
    "\n",
    "dfs = []\n",
    "for i in range(1, 7):\n",
    "    dfs.append(df[df.MONTH_NUM_FROM_EVENT == i]) # the i month data\n",
    "    print(i)\n",
    "\n",
    "dfs_col_ren = []\n",
    "for i in range(6):\n",
    "    df = dfs[i].drop(['ID', 'MONTH_NUM_FROM_EVENT'], axis=1)\n",
    "    d = { e: str(i+1) + e for e in list(df.columns)}\n",
    "    df = df.rename(index=str, columns=d)\n",
    "    dfs_col_ren.append(df)\n",
    "\n",
    "df_uni = dfs_col_ren[0]\n",
    "for i in range(1,6):\n",
    "    df_uni = pd.concat([df_uni.reset_index(drop=True), dfs_col_ren[i].reset_index(drop=True)], axis=1)\n",
    "\n",
    "df_trans = df_uni # dfs_col_ren[5] # df_uni\n",
    "\n",
    "X = np.array(df_trans.values) # array of features from \n",
    "y = np.array(obs.TARGET)\n",
    "from sklearn.utils.validation import assert_all_finite\n",
    "nanplaces = np.isnan(X)\n",
    "X[nanplaces] = 0.01\n",
    "# run checks\n",
    "print(assert_all_finite(X))\n",
    "# should output None\n",
    "print(np.any(np.isnan(X)), np.all(np.isfinite(X))) \n",
    "# should output False True\n",
    "\n",
    "from sklearn import preprocessing\n",
    "X = preprocessing.StandardScaler().fit(X).transform(X)\n",
    "\n",
    "from sklearn.linear_model import LogisticRegression\n",
    "\n",
    "from sklearn.ensemble import VotingClassifier\n",
    "\n",
    "clf1 = LogisticRegression(C=0.02, solver='liblinear', max_iter=4000)\n",
    "clf2 = LogisticRegression(C=0.02, solver='liblinear', max_iter=4000)\n",
    "\n",
    "eclf1 = VotingClassifier(estimators=[('lr1', clf1), ('lr2', clf2)], voting='soft')\n",
    "eclf1 = eclf1.fit(X, y)\n"
   ]
  },
  {
   "cell_type": "code",
   "execution_count": 5,
   "metadata": {},
   "outputs": [
    {
     "name": "stdout",
     "output_type": "stream",
     "text": [
      "1\n",
      "2\n",
      "3\n",
      "4\n",
      "5\n",
      "6\n",
      "None\n",
      "False True\n"
     ]
    }
   ],
   "source": [
    "df = df_original[df_original.ID.isin(est_id)] # df for testing\n",
    "\n",
    "dfs = []\n",
    "for i in range(1, 7):\n",
    "    dfs.append(df[df.MONTH_NUM_FROM_EVENT == i]) # the i month data\n",
    "    print(i)\n",
    "    \n",
    "dfs_col_ren = []\n",
    "for i in range(6):\n",
    "    df = dfs[i].drop(['ID', 'MONTH_NUM_FROM_EVENT'], axis=1)\n",
    "    d = { e: str(i+1) + e for e in list(df.columns)}\n",
    "    df = df.rename(index=str, columns=d)\n",
    "    dfs_col_ren.append(df)\n",
    "    # display(df.head(), df.shape)\n",
    "\n",
    "df_uni = dfs_col_ren[0]\n",
    "for i in range(1,6):\n",
    "    df_uni = pd.concat([df_uni.reset_index(drop=True), dfs_col_ren[i].reset_index(drop=True)], axis=1)\n",
    "\n",
    "# display(df_uni.head(), df_uni.shape)\n",
    "\n",
    "df_trans = df_uni # dfs_col_ren[5] # df_uni\n",
    "\n",
    "X = np.array(df_trans.values) # array of features from \n",
    "\n",
    "from sklearn.utils.validation import assert_all_finite\n",
    "nanplaces = np.isnan(X)\n",
    "X[nanplaces] = 0.01\n",
    "# run checks\n",
    "print(assert_all_finite(X))\n",
    "# should output None\n",
    "print(np.any(np.isnan(X)), np.all(np.isfinite(X))) \n",
    "# should output False True\n",
    "\n",
    "from sklearn import preprocessing\n",
    "X = preprocessing.StandardScaler().fit(X).transform(X)\n",
    "\n",
    "y_prob_ = eclf1.predict_proba(X)\n",
    "\n",
    "est['TARGET'] = pd.Series(y_prob_[:,1], index=est.index)\n",
    "# results_sample = pd.read_csv('Sample_test.txt')\n",
    "est.to_csv('YanushevskyiArtemii_test.txt', index=False)"
   ]
  },
  {
   "cell_type": "code",
   "execution_count": null,
   "metadata": {},
   "outputs": [],
   "source": []
  }
 ],
 "metadata": {
  "kernelspec": {
   "display_name": "Python 3",
   "language": "python",
   "name": "python3"
  },
  "language_info": {
   "codemirror_mode": {
    "name": "ipython",
    "version": 3
   },
   "file_extension": ".py",
   "mimetype": "text/x-python",
   "name": "python",
   "nbconvert_exporter": "python",
   "pygments_lexer": "ipython3",
   "version": "3.7.0"
  }
 },
 "nbformat": 4,
 "nbformat_minor": 2
}

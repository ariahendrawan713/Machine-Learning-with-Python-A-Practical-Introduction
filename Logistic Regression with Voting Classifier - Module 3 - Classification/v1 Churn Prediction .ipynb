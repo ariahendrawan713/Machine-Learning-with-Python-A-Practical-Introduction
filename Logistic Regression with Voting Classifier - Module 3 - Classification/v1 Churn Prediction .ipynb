{
 "cells": [
  {
   "cell_type": "code",
   "execution_count": 1,
   "metadata": {},
   "outputs": [],
   "source": [
    "import pandas as pd\n",
    "import numpy as np\n",
    "pd.options.display.max_columns = None # display all the columns"
   ]
  },
  {
   "cell_type": "markdown",
   "metadata": {},
   "source": [
    "# Feautre data"
   ]
  },
  {
   "cell_type": "code",
   "execution_count": 2,
   "metadata": {},
   "outputs": [],
   "source": [
    "df_original = pd.read_csv('Data_features.csv') # feature set"
   ]
  },
  {
   "cell_type": "markdown",
   "metadata": {},
   "source": [
    "# Factual Data for Training and User ID List for Prediction"
   ]
  },
  {
   "cell_type": "code",
   "execution_count": 3,
   "metadata": {
    "scrolled": true
   },
   "outputs": [],
   "source": [
    "obs = pd.read_csv('Data_train_set.csv') # User ID, Churn\n",
    "est = pd.read_csv('Data_test_set.csv')  # User ID to predict Churn"
   ]
  },
  {
   "cell_type": "code",
   "execution_count": 4,
   "metadata": {},
   "outputs": [
    {
     "data": {
      "text/html": [
       "<div>\n",
       "<style scoped>\n",
       "    .dataframe tbody tr th:only-of-type {\n",
       "        vertical-align: middle;\n",
       "    }\n",
       "\n",
       "    .dataframe tbody tr th {\n",
       "        vertical-align: top;\n",
       "    }\n",
       "\n",
       "    .dataframe thead th {\n",
       "        text-align: right;\n",
       "    }\n",
       "</style>\n",
       "<table border=\"1\" class=\"dataframe\">\n",
       "  <thead>\n",
       "    <tr style=\"text-align: right;\">\n",
       "      <th></th>\n",
       "      <th>ID</th>\n",
       "      <th>TARGET</th>\n",
       "    </tr>\n",
       "  </thead>\n",
       "  <tbody>\n",
       "    <tr>\n",
       "      <th>0</th>\n",
       "      <td>1</td>\n",
       "      <td>0.420288</td>\n",
       "    </tr>\n",
       "    <tr>\n",
       "      <th>1</th>\n",
       "      <td>3</td>\n",
       "      <td>0.449351</td>\n",
       "    </tr>\n",
       "    <tr>\n",
       "      <th>2</th>\n",
       "      <td>6</td>\n",
       "      <td>0.465414</td>\n",
       "    </tr>\n",
       "    <tr>\n",
       "      <th>3</th>\n",
       "      <td>7</td>\n",
       "      <td>0.166205</td>\n",
       "    </tr>\n",
       "    <tr>\n",
       "      <th>4</th>\n",
       "      <td>12</td>\n",
       "      <td>0.645974</td>\n",
       "    </tr>\n",
       "    <tr>\n",
       "      <th>5</th>\n",
       "      <td>18</td>\n",
       "      <td>0.023114</td>\n",
       "    </tr>\n",
       "  </tbody>\n",
       "</table>\n",
       "</div>"
      ],
      "text/plain": [
       "   ID    TARGET\n",
       "0   1  0.420288\n",
       "1   3  0.449351\n",
       "2   6  0.465414\n",
       "3   7  0.166205\n",
       "4  12  0.645974\n",
       "5  18  0.023114"
      ]
     },
     "execution_count": 4,
     "metadata": {},
     "output_type": "execute_result"
    }
   ],
   "source": [
    "results_sample = pd.read_csv('Sample_test.txt')\n",
    "results_sample"
   ]
  },
  {
   "cell_type": "markdown",
   "metadata": {},
   "source": [
    "# Analyze some specific cases"
   ]
  },
  {
   "cell_type": "code",
   "execution_count": 5,
   "metadata": {},
   "outputs": [
    {
     "data": {
      "text/plain": [
       "8.08378588052754"
      ]
     },
     "execution_count": 5,
     "metadata": {},
     "output_type": "execute_result"
    }
   ],
   "source": [
    "len(obs[obs.TARGET == 1])/len(obs) * 100"
   ]
  },
  {
   "cell_type": "markdown",
   "metadata": {},
   "source": [
    "8% will Churn within next 3 month."
   ]
  },
  {
   "cell_type": "code",
   "execution_count": 6,
   "metadata": {},
   "outputs": [
    {
     "data": {
      "text/plain": [
       "True"
      ]
     },
     "execution_count": 6,
     "metadata": {},
     "output_type": "execute_result"
    }
   ],
   "source": [
    "obs_id = obs['ID'].values # IDs in factual data\n",
    "est_id = est['ID'].values # IDs to analyse\n",
    "len(obs_id) + len(est_id) == 17195"
   ]
  },
  {
   "cell_type": "markdown",
   "metadata": {},
   "source": [
    "Make a dataframe for training, i.e. select entries with known outcome"
   ]
  },
  {
   "cell_type": "code",
   "execution_count": 7,
   "metadata": {},
   "outputs": [
    {
     "data": {
      "text/plain": [
       "True"
      ]
     },
     "execution_count": 7,
     "metadata": {},
     "output_type": "execute_result"
    }
   ],
   "source": [
    "df = df_original[df_original.ID.isin(obs_id)] # df for training\n",
    "len(df)/6 == 12890"
   ]
  },
  {
   "cell_type": "markdown",
   "metadata": {},
   "source": [
    "I will use ```df_obs``` to train the model, then I will make prediction about ```est.ID```."
   ]
  },
  {
   "cell_type": "markdown",
   "metadata": {},
   "source": [
    "Entries with IDs of people who will churn"
   ]
  },
  {
   "cell_type": "code",
   "execution_count": 8,
   "metadata": {},
   "outputs": [
    {
     "data": {
      "text/html": [
       "<div>\n",
       "<style scoped>\n",
       "    .dataframe tbody tr th:only-of-type {\n",
       "        vertical-align: middle;\n",
       "    }\n",
       "\n",
       "    .dataframe tbody tr th {\n",
       "        vertical-align: top;\n",
       "    }\n",
       "\n",
       "    .dataframe thead th {\n",
       "        text-align: right;\n",
       "    }\n",
       "</style>\n",
       "<table border=\"1\" class=\"dataframe\">\n",
       "  <thead>\n",
       "    <tr style=\"text-align: right;\">\n",
       "      <th></th>\n",
       "      <th>ID</th>\n",
       "      <th>MONTH_NUM_FROM_EVENT</th>\n",
       "      <th>F1</th>\n",
       "      <th>F2</th>\n",
       "      <th>F3</th>\n",
       "      <th>F4</th>\n",
       "      <th>F5</th>\n",
       "      <th>F6</th>\n",
       "      <th>F7</th>\n",
       "      <th>F8</th>\n",
       "      <th>F9</th>\n",
       "      <th>F10</th>\n",
       "      <th>F11</th>\n",
       "      <th>F12</th>\n",
       "      <th>F13</th>\n",
       "      <th>F14</th>\n",
       "      <th>F15</th>\n",
       "      <th>F16</th>\n",
       "      <th>F17</th>\n",
       "      <th>F18</th>\n",
       "      <th>F19</th>\n",
       "      <th>F20</th>\n",
       "      <th>F21</th>\n",
       "      <th>F22</th>\n",
       "      <th>F23</th>\n",
       "      <th>F24</th>\n",
       "      <th>F26</th>\n",
       "      <th>F27</th>\n",
       "      <th>F28</th>\n",
       "      <th>F29</th>\n",
       "      <th>F30</th>\n",
       "      <th>F31</th>\n",
       "      <th>F32</th>\n",
       "      <th>F33</th>\n",
       "      <th>F34</th>\n",
       "      <th>F35</th>\n",
       "      <th>F36</th>\n",
       "      <th>F37</th>\n",
       "      <th>F38</th>\n",
       "      <th>F39</th>\n",
       "      <th>F40</th>\n",
       "      <th>F41</th>\n",
       "      <th>F42</th>\n",
       "      <th>F43</th>\n",
       "      <th>F44</th>\n",
       "      <th>F45</th>\n",
       "      <th>F46</th>\n",
       "      <th>F47</th>\n",
       "    </tr>\n",
       "  </thead>\n",
       "  <tbody>\n",
       "    <tr>\n",
       "      <th>83</th>\n",
       "      <td>21</td>\n",
       "      <td>1</td>\n",
       "      <td>10.0</td>\n",
       "      <td>56.0</td>\n",
       "      <td>27.0</td>\n",
       "      <td>1.0</td>\n",
       "      <td>0.0</td>\n",
       "      <td>223.77</td>\n",
       "      <td>201.73</td>\n",
       "      <td>15.33</td>\n",
       "      <td>74.60</td>\n",
       "      <td>63.22</td>\n",
       "      <td>11.38</td>\n",
       "      <td>173.0</td>\n",
       "      <td>NaN</td>\n",
       "      <td>7.0</td>\n",
       "      <td>60.0</td>\n",
       "      <td>49.0</td>\n",
       "      <td>11.0</td>\n",
       "      <td>17.86</td>\n",
       "      <td>0.0</td>\n",
       "      <td>25.36</td>\n",
       "      <td>0.189501</td>\n",
       "      <td>0.0</td>\n",
       "      <td>NaN</td>\n",
       "      <td>0.0</td>\n",
       "      <td>19.0</td>\n",
       "      <td>25.0</td>\n",
       "      <td>28.0</td>\n",
       "      <td>30.0</td>\n",
       "      <td>0.0</td>\n",
       "      <td>0.0</td>\n",
       "      <td>1.0</td>\n",
       "      <td>2.0</td>\n",
       "      <td>40.0</td>\n",
       "      <td>72.0</td>\n",
       "      <td>84.0</td>\n",
       "      <td>3.0</td>\n",
       "      <td>79.0</td>\n",
       "      <td>134.0</td>\n",
       "      <td>2.0</td>\n",
       "      <td>3.0</td>\n",
       "      <td>3.0</td>\n",
       "      <td>2.0</td>\n",
       "      <td>0.0</td>\n",
       "      <td>NaN</td>\n",
       "      <td>2.0</td>\n",
       "      <td>393.0</td>\n",
       "    </tr>\n",
       "    <tr>\n",
       "      <th>84</th>\n",
       "      <td>21</td>\n",
       "      <td>2</td>\n",
       "      <td>25.0</td>\n",
       "      <td>55.0</td>\n",
       "      <td>26.0</td>\n",
       "      <td>3.0</td>\n",
       "      <td>NaN</td>\n",
       "      <td>335.83</td>\n",
       "      <td>324.65</td>\n",
       "      <td>9.75</td>\n",
       "      <td>108.97</td>\n",
       "      <td>108.03</td>\n",
       "      <td>0.93</td>\n",
       "      <td>158.0</td>\n",
       "      <td>133.0</td>\n",
       "      <td>NaN</td>\n",
       "      <td>84.0</td>\n",
       "      <td>82.0</td>\n",
       "      <td>2.0</td>\n",
       "      <td>NaN</td>\n",
       "      <td>8.0</td>\n",
       "      <td>59.64</td>\n",
       "      <td>18.318316</td>\n",
       "      <td>0.0</td>\n",
       "      <td>NaN</td>\n",
       "      <td>0.0</td>\n",
       "      <td>25.0</td>\n",
       "      <td>26.0</td>\n",
       "      <td>27.0</td>\n",
       "      <td>29.0</td>\n",
       "      <td>0.0</td>\n",
       "      <td>0.0</td>\n",
       "      <td>2.0</td>\n",
       "      <td>2.0</td>\n",
       "      <td>40.0</td>\n",
       "      <td>100.0</td>\n",
       "      <td>62.0</td>\n",
       "      <td>3.0</td>\n",
       "      <td>16.0</td>\n",
       "      <td>138.0</td>\n",
       "      <td>4.0</td>\n",
       "      <td>5.0</td>\n",
       "      <td>5.0</td>\n",
       "      <td>2.0</td>\n",
       "      <td>0.0</td>\n",
       "      <td>0.0</td>\n",
       "      <td>4.0</td>\n",
       "      <td>534.0</td>\n",
       "    </tr>\n",
       "    <tr>\n",
       "      <th>85</th>\n",
       "      <td>21</td>\n",
       "      <td>3</td>\n",
       "      <td>25.0</td>\n",
       "      <td>54.0</td>\n",
       "      <td>30.0</td>\n",
       "      <td>0.0</td>\n",
       "      <td>0.0</td>\n",
       "      <td>292.10</td>\n",
       "      <td>287.70</td>\n",
       "      <td>NaN</td>\n",
       "      <td>104.22</td>\n",
       "      <td>100.38</td>\n",
       "      <td>0.17</td>\n",
       "      <td>117.0</td>\n",
       "      <td>111.0</td>\n",
       "      <td>3.0</td>\n",
       "      <td>49.0</td>\n",
       "      <td>46.0</td>\n",
       "      <td>1.0</td>\n",
       "      <td>39.50</td>\n",
       "      <td>0.0</td>\n",
       "      <td>40.00</td>\n",
       "      <td>0.000000</td>\n",
       "      <td>0.0</td>\n",
       "      <td>NaN</td>\n",
       "      <td>0.0</td>\n",
       "      <td>29.0</td>\n",
       "      <td>29.0</td>\n",
       "      <td>30.0</td>\n",
       "      <td>NaN</td>\n",
       "      <td>0.0</td>\n",
       "      <td>0.0</td>\n",
       "      <td>3.0</td>\n",
       "      <td>2.0</td>\n",
       "      <td>40.0</td>\n",
       "      <td>56.0</td>\n",
       "      <td>40.0</td>\n",
       "      <td>2.0</td>\n",
       "      <td>7.0</td>\n",
       "      <td>134.0</td>\n",
       "      <td>3.0</td>\n",
       "      <td>4.0</td>\n",
       "      <td>4.0</td>\n",
       "      <td>2.0</td>\n",
       "      <td>0.0</td>\n",
       "      <td>0.0</td>\n",
       "      <td>3.0</td>\n",
       "      <td>272.0</td>\n",
       "    </tr>\n",
       "    <tr>\n",
       "      <th>86</th>\n",
       "      <td>21</td>\n",
       "      <td>4</td>\n",
       "      <td>25.0</td>\n",
       "      <td>NaN</td>\n",
       "      <td>30.0</td>\n",
       "      <td>0.0</td>\n",
       "      <td>0.0</td>\n",
       "      <td>139.05</td>\n",
       "      <td>137.47</td>\n",
       "      <td>1.47</td>\n",
       "      <td>82.88</td>\n",
       "      <td>69.87</td>\n",
       "      <td>13.02</td>\n",
       "      <td>118.0</td>\n",
       "      <td>111.0</td>\n",
       "      <td>2.0</td>\n",
       "      <td>74.0</td>\n",
       "      <td>67.0</td>\n",
       "      <td>7.0</td>\n",
       "      <td>43.90</td>\n",
       "      <td>0.0</td>\n",
       "      <td>47.50</td>\n",
       "      <td>0.000000</td>\n",
       "      <td>0.0</td>\n",
       "      <td>NaN</td>\n",
       "      <td>0.0</td>\n",
       "      <td>25.0</td>\n",
       "      <td>28.0</td>\n",
       "      <td>30.0</td>\n",
       "      <td>31.0</td>\n",
       "      <td>0.0</td>\n",
       "      <td>0.0</td>\n",
       "      <td>4.0</td>\n",
       "      <td>2.0</td>\n",
       "      <td>40.0</td>\n",
       "      <td>NaN</td>\n",
       "      <td>NaN</td>\n",
       "      <td>NaN</td>\n",
       "      <td>8.0</td>\n",
       "      <td>NaN</td>\n",
       "      <td>4.0</td>\n",
       "      <td>4.0</td>\n",
       "      <td>4.0</td>\n",
       "      <td>1.0</td>\n",
       "      <td>0.0</td>\n",
       "      <td>0.0</td>\n",
       "      <td>1.0</td>\n",
       "      <td>367.0</td>\n",
       "    </tr>\n",
       "    <tr>\n",
       "      <th>87</th>\n",
       "      <td>21</td>\n",
       "      <td>5</td>\n",
       "      <td>25.0</td>\n",
       "      <td>52.0</td>\n",
       "      <td>27.0</td>\n",
       "      <td>0.0</td>\n",
       "      <td>0.0</td>\n",
       "      <td>110.60</td>\n",
       "      <td>110.60</td>\n",
       "      <td>0.00</td>\n",
       "      <td>70.78</td>\n",
       "      <td>53.77</td>\n",
       "      <td>3.05</td>\n",
       "      <td>64.0</td>\n",
       "      <td>64.0</td>\n",
       "      <td>0.0</td>\n",
       "      <td>38.0</td>\n",
       "      <td>35.0</td>\n",
       "      <td>1.0</td>\n",
       "      <td>46.50</td>\n",
       "      <td>0.0</td>\n",
       "      <td>46.50</td>\n",
       "      <td>0.000000</td>\n",
       "      <td>0.0</td>\n",
       "      <td>NaN</td>\n",
       "      <td>0.0</td>\n",
       "      <td>23.0</td>\n",
       "      <td>26.0</td>\n",
       "      <td>28.0</td>\n",
       "      <td>29.0</td>\n",
       "      <td>0.0</td>\n",
       "      <td>NaN</td>\n",
       "      <td>5.0</td>\n",
       "      <td>NaN</td>\n",
       "      <td>40.0</td>\n",
       "      <td>NaN</td>\n",
       "      <td>NaN</td>\n",
       "      <td>2.0</td>\n",
       "      <td>11.0</td>\n",
       "      <td>NaN</td>\n",
       "      <td>NaN</td>\n",
       "      <td>NaN</td>\n",
       "      <td>NaN</td>\n",
       "      <td>NaN</td>\n",
       "      <td>NaN</td>\n",
       "      <td>NaN</td>\n",
       "      <td>NaN</td>\n",
       "      <td>NaN</td>\n",
       "    </tr>\n",
       "    <tr>\n",
       "      <th>88</th>\n",
       "      <td>21</td>\n",
       "      <td>6</td>\n",
       "      <td>NaN</td>\n",
       "      <td>NaN</td>\n",
       "      <td>25.0</td>\n",
       "      <td>10.0</td>\n",
       "      <td>0.0</td>\n",
       "      <td>247.33</td>\n",
       "      <td>243.70</td>\n",
       "      <td>3.37</td>\n",
       "      <td>43.03</td>\n",
       "      <td>36.62</td>\n",
       "      <td>0.00</td>\n",
       "      <td>114.0</td>\n",
       "      <td>106.0</td>\n",
       "      <td>NaN</td>\n",
       "      <td>37.0</td>\n",
       "      <td>33.0</td>\n",
       "      <td>0.0</td>\n",
       "      <td>63.50</td>\n",
       "      <td>0.0</td>\n",
       "      <td>92.50</td>\n",
       "      <td>93.957795</td>\n",
       "      <td>0.0</td>\n",
       "      <td>NaN</td>\n",
       "      <td>0.0</td>\n",
       "      <td>18.0</td>\n",
       "      <td>21.0</td>\n",
       "      <td>24.0</td>\n",
       "      <td>25.0</td>\n",
       "      <td>0.0</td>\n",
       "      <td>0.0</td>\n",
       "      <td>6.0</td>\n",
       "      <td>2.0</td>\n",
       "      <td>40.0</td>\n",
       "      <td>NaN</td>\n",
       "      <td>NaN</td>\n",
       "      <td>2.0</td>\n",
       "      <td>18.0</td>\n",
       "      <td>NaN</td>\n",
       "      <td>NaN</td>\n",
       "      <td>NaN</td>\n",
       "      <td>NaN</td>\n",
       "      <td>NaN</td>\n",
       "      <td>NaN</td>\n",
       "      <td>NaN</td>\n",
       "      <td>NaN</td>\n",
       "      <td>NaN</td>\n",
       "    </tr>\n",
       "  </tbody>\n",
       "</table>\n",
       "</div>"
      ],
      "text/plain": [
       "    ID  MONTH_NUM_FROM_EVENT    F1    F2    F3    F4   F5      F6      F7  \\\n",
       "83  21                     1  10.0  56.0  27.0   1.0  0.0  223.77  201.73   \n",
       "84  21                     2  25.0  55.0  26.0   3.0  NaN  335.83  324.65   \n",
       "85  21                     3  25.0  54.0  30.0   0.0  0.0  292.10  287.70   \n",
       "86  21                     4  25.0   NaN  30.0   0.0  0.0  139.05  137.47   \n",
       "87  21                     5  25.0  52.0  27.0   0.0  0.0  110.60  110.60   \n",
       "88  21                     6   NaN   NaN  25.0  10.0  0.0  247.33  243.70   \n",
       "\n",
       "       F8      F9     F10    F11    F12    F13  F14   F15   F16   F17    F18  \\\n",
       "83  15.33   74.60   63.22  11.38  173.0    NaN  7.0  60.0  49.0  11.0  17.86   \n",
       "84   9.75  108.97  108.03   0.93  158.0  133.0  NaN  84.0  82.0   2.0    NaN   \n",
       "85    NaN  104.22  100.38   0.17  117.0  111.0  3.0  49.0  46.0   1.0  39.50   \n",
       "86   1.47   82.88   69.87  13.02  118.0  111.0  2.0  74.0  67.0   7.0  43.90   \n",
       "87   0.00   70.78   53.77   3.05   64.0   64.0  0.0  38.0  35.0   1.0  46.50   \n",
       "88   3.37   43.03   36.62   0.00  114.0  106.0  NaN  37.0  33.0   0.0  63.50   \n",
       "\n",
       "    F19    F20        F21  F22  F23  F24   F26   F27   F28   F29  F30  F31  \\\n",
       "83  0.0  25.36   0.189501  0.0  NaN  0.0  19.0  25.0  28.0  30.0  0.0  0.0   \n",
       "84  8.0  59.64  18.318316  0.0  NaN  0.0  25.0  26.0  27.0  29.0  0.0  0.0   \n",
       "85  0.0  40.00   0.000000  0.0  NaN  0.0  29.0  29.0  30.0   NaN  0.0  0.0   \n",
       "86  0.0  47.50   0.000000  0.0  NaN  0.0  25.0  28.0  30.0  31.0  0.0  0.0   \n",
       "87  0.0  46.50   0.000000  0.0  NaN  0.0  23.0  26.0  28.0  29.0  0.0  NaN   \n",
       "88  0.0  92.50  93.957795  0.0  NaN  0.0  18.0  21.0  24.0  25.0  0.0  0.0   \n",
       "\n",
       "    F32  F33   F34    F35   F36  F37   F38    F39  F40  F41  F42  F43  F44  \\\n",
       "83  1.0  2.0  40.0   72.0  84.0  3.0  79.0  134.0  2.0  3.0  3.0  2.0  0.0   \n",
       "84  2.0  2.0  40.0  100.0  62.0  3.0  16.0  138.0  4.0  5.0  5.0  2.0  0.0   \n",
       "85  3.0  2.0  40.0   56.0  40.0  2.0   7.0  134.0  3.0  4.0  4.0  2.0  0.0   \n",
       "86  4.0  2.0  40.0    NaN   NaN  NaN   8.0    NaN  4.0  4.0  4.0  1.0  0.0   \n",
       "87  5.0  NaN  40.0    NaN   NaN  2.0  11.0    NaN  NaN  NaN  NaN  NaN  NaN   \n",
       "88  6.0  2.0  40.0    NaN   NaN  2.0  18.0    NaN  NaN  NaN  NaN  NaN  NaN   \n",
       "\n",
       "    F45  F46    F47  \n",
       "83  NaN  2.0  393.0  \n",
       "84  0.0  4.0  534.0  \n",
       "85  0.0  3.0  272.0  \n",
       "86  0.0  1.0  367.0  \n",
       "87  NaN  NaN    NaN  \n",
       "88  NaN  NaN    NaN  "
      ]
     },
     "execution_count": 8,
     "metadata": {},
     "output_type": "execute_result"
    }
   ],
   "source": [
    "df_churn = df[df.ID.isin(obs.ID[obs['TARGET']==1])] # entries of people who churn \n",
    "df_churn[0:6]"
   ]
  },
  {
   "cell_type": "markdown",
   "metadata": {},
   "source": [
    "I would like to make a table of all the 13k users with all the 47x6 features."
   ]
  },
  {
   "cell_type": "markdown",
   "metadata": {},
   "source": [
    "But before I would like to make some predictions based on the last month usage."
   ]
  },
  {
   "cell_type": "code",
   "execution_count": 9,
   "metadata": {},
   "outputs": [
    {
     "data": {
      "text/html": [
       "<div>\n",
       "<style scoped>\n",
       "    .dataframe tbody tr th:only-of-type {\n",
       "        vertical-align: middle;\n",
       "    }\n",
       "\n",
       "    .dataframe tbody tr th {\n",
       "        vertical-align: top;\n",
       "    }\n",
       "\n",
       "    .dataframe thead th {\n",
       "        text-align: right;\n",
       "    }\n",
       "</style>\n",
       "<table border=\"1\" class=\"dataframe\">\n",
       "  <thead>\n",
       "    <tr style=\"text-align: right;\">\n",
       "      <th></th>\n",
       "      <th>ID</th>\n",
       "      <th>MONTH_NUM_FROM_EVENT</th>\n",
       "      <th>F1</th>\n",
       "      <th>F2</th>\n",
       "      <th>F3</th>\n",
       "      <th>F4</th>\n",
       "      <th>F5</th>\n",
       "      <th>F6</th>\n",
       "      <th>F7</th>\n",
       "      <th>F8</th>\n",
       "      <th>F9</th>\n",
       "      <th>F10</th>\n",
       "      <th>F11</th>\n",
       "      <th>F12</th>\n",
       "      <th>F13</th>\n",
       "      <th>F14</th>\n",
       "      <th>F15</th>\n",
       "      <th>F16</th>\n",
       "      <th>F17</th>\n",
       "      <th>F18</th>\n",
       "      <th>F19</th>\n",
       "      <th>F20</th>\n",
       "      <th>F21</th>\n",
       "      <th>F22</th>\n",
       "      <th>F23</th>\n",
       "      <th>F24</th>\n",
       "      <th>F26</th>\n",
       "      <th>F27</th>\n",
       "      <th>F28</th>\n",
       "      <th>F29</th>\n",
       "      <th>F30</th>\n",
       "      <th>F31</th>\n",
       "      <th>F32</th>\n",
       "      <th>F33</th>\n",
       "      <th>F34</th>\n",
       "      <th>F35</th>\n",
       "      <th>F36</th>\n",
       "      <th>F37</th>\n",
       "      <th>F38</th>\n",
       "      <th>F39</th>\n",
       "      <th>F40</th>\n",
       "      <th>F41</th>\n",
       "      <th>F42</th>\n",
       "      <th>F43</th>\n",
       "      <th>F44</th>\n",
       "      <th>F45</th>\n",
       "      <th>F46</th>\n",
       "      <th>F47</th>\n",
       "    </tr>\n",
       "  </thead>\n",
       "  <tbody>\n",
       "    <tr>\n",
       "      <th>0</th>\n",
       "      <td>2</td>\n",
       "      <td>1</td>\n",
       "      <td>4.0</td>\n",
       "      <td>133.0</td>\n",
       "      <td>28.0</td>\n",
       "      <td>NaN</td>\n",
       "      <td>0.0</td>\n",
       "      <td>NaN</td>\n",
       "      <td>518.98</td>\n",
       "      <td>2.60</td>\n",
       "      <td>151.33</td>\n",
       "      <td>142.32</td>\n",
       "      <td>9.02</td>\n",
       "      <td>168.0</td>\n",
       "      <td>155.0</td>\n",
       "      <td>6.0</td>\n",
       "      <td>84.0</td>\n",
       "      <td>71.0</td>\n",
       "      <td>13.0</td>\n",
       "      <td>NaN</td>\n",
       "      <td>0.0</td>\n",
       "      <td>56.48</td>\n",
       "      <td>377.331409</td>\n",
       "      <td>0.000000</td>\n",
       "      <td>NaN</td>\n",
       "      <td>0.0</td>\n",
       "      <td>0.0</td>\n",
       "      <td>0.0</td>\n",
       "      <td>0.0</td>\n",
       "      <td>19.0</td>\n",
       "      <td>0.0</td>\n",
       "      <td>0.0</td>\n",
       "      <td>1.0</td>\n",
       "      <td>1.0</td>\n",
       "      <td>40.0</td>\n",
       "      <td>99.0</td>\n",
       "      <td>75.0</td>\n",
       "      <td>5.0</td>\n",
       "      <td>89.0</td>\n",
       "      <td>137.0</td>\n",
       "      <td>0.0</td>\n",
       "      <td>2.0</td>\n",
       "      <td>2.0</td>\n",
       "      <td>1.0</td>\n",
       "      <td>0.0</td>\n",
       "      <td>0.0</td>\n",
       "      <td>2.0</td>\n",
       "      <td>958.0</td>\n",
       "    </tr>\n",
       "    <tr>\n",
       "      <th>6</th>\n",
       "      <td>4</td>\n",
       "      <td>1</td>\n",
       "      <td>5.0</td>\n",
       "      <td>139.0</td>\n",
       "      <td>29.0</td>\n",
       "      <td>7.0</td>\n",
       "      <td>0.0</td>\n",
       "      <td>682.90</td>\n",
       "      <td>676.53</td>\n",
       "      <td>3.53</td>\n",
       "      <td>591.27</td>\n",
       "      <td>585.22</td>\n",
       "      <td>6.05</td>\n",
       "      <td>174.0</td>\n",
       "      <td>164.0</td>\n",
       "      <td>4.0</td>\n",
       "      <td>258.0</td>\n",
       "      <td>253.0</td>\n",
       "      <td>5.0</td>\n",
       "      <td>46.50</td>\n",
       "      <td>0.0</td>\n",
       "      <td>49.25</td>\n",
       "      <td>25.455420</td>\n",
       "      <td>13.795844</td>\n",
       "      <td>NaN</td>\n",
       "      <td>0.0</td>\n",
       "      <td>0.0</td>\n",
       "      <td>0.0</td>\n",
       "      <td>0.0</td>\n",
       "      <td>5.0</td>\n",
       "      <td>0.0</td>\n",
       "      <td>0.0</td>\n",
       "      <td>1.0</td>\n",
       "      <td>NaN</td>\n",
       "      <td>NaN</td>\n",
       "      <td>267.0</td>\n",
       "      <td>72.0</td>\n",
       "      <td>14.0</td>\n",
       "      <td>NaN</td>\n",
       "      <td>130.0</td>\n",
       "      <td>2.0</td>\n",
       "      <td>2.0</td>\n",
       "      <td>4.0</td>\n",
       "      <td>0.0</td>\n",
       "      <td>2.0</td>\n",
       "      <td>0.0</td>\n",
       "      <td>1.0</td>\n",
       "      <td>866.0</td>\n",
       "    </tr>\n",
       "    <tr>\n",
       "      <th>12</th>\n",
       "      <td>5</td>\n",
       "      <td>1</td>\n",
       "      <td>20.0</td>\n",
       "      <td>19.0</td>\n",
       "      <td>22.0</td>\n",
       "      <td>0.0</td>\n",
       "      <td>1.0</td>\n",
       "      <td>137.98</td>\n",
       "      <td>55.78</td>\n",
       "      <td>36.03</td>\n",
       "      <td>115.33</td>\n",
       "      <td>28.90</td>\n",
       "      <td>41.55</td>\n",
       "      <td>47.0</td>\n",
       "      <td>15.0</td>\n",
       "      <td>21.0</td>\n",
       "      <td>45.0</td>\n",
       "      <td>26.0</td>\n",
       "      <td>15.0</td>\n",
       "      <td>0.00</td>\n",
       "      <td>0.0</td>\n",
       "      <td>128.00</td>\n",
       "      <td>0.000000</td>\n",
       "      <td>0.000000</td>\n",
       "      <td>NaN</td>\n",
       "      <td>0.0</td>\n",
       "      <td>0.0</td>\n",
       "      <td>2.0</td>\n",
       "      <td>4.0</td>\n",
       "      <td>9.0</td>\n",
       "      <td>1.0</td>\n",
       "      <td>0.0</td>\n",
       "      <td>NaN</td>\n",
       "      <td>NaN</td>\n",
       "      <td>NaN</td>\n",
       "      <td>NaN</td>\n",
       "      <td>22.0</td>\n",
       "      <td>5.0</td>\n",
       "      <td>44.0</td>\n",
       "      <td>12.0</td>\n",
       "      <td>0.0</td>\n",
       "      <td>0.0</td>\n",
       "      <td>0.0</td>\n",
       "      <td>2.0</td>\n",
       "      <td>0.0</td>\n",
       "      <td>0.0</td>\n",
       "      <td>1.0</td>\n",
       "      <td>146.0</td>\n",
       "    </tr>\n",
       "    <tr>\n",
       "      <th>18</th>\n",
       "      <td>8</td>\n",
       "      <td>1</td>\n",
       "      <td>21.0</td>\n",
       "      <td>134.0</td>\n",
       "      <td>29.0</td>\n",
       "      <td>21.0</td>\n",
       "      <td>1.0</td>\n",
       "      <td>459.90</td>\n",
       "      <td>408.58</td>\n",
       "      <td>11.92</td>\n",
       "      <td>485.28</td>\n",
       "      <td>413.35</td>\n",
       "      <td>25.42</td>\n",
       "      <td>155.0</td>\n",
       "      <td>114.0</td>\n",
       "      <td>7.0</td>\n",
       "      <td>95.0</td>\n",
       "      <td>80.0</td>\n",
       "      <td>6.0</td>\n",
       "      <td>10.85</td>\n",
       "      <td>8.0</td>\n",
       "      <td>123.40</td>\n",
       "      <td>8.501169</td>\n",
       "      <td>NaN</td>\n",
       "      <td>NaN</td>\n",
       "      <td>0.0</td>\n",
       "      <td>1.0</td>\n",
       "      <td>21.0</td>\n",
       "      <td>22.0</td>\n",
       "      <td>25.0</td>\n",
       "      <td>0.0</td>\n",
       "      <td>0.0</td>\n",
       "      <td>NaN</td>\n",
       "      <td>3.0</td>\n",
       "      <td>40.0</td>\n",
       "      <td>103.0</td>\n",
       "      <td>35.0</td>\n",
       "      <td>1.0</td>\n",
       "      <td>59.0</td>\n",
       "      <td>137.0</td>\n",
       "      <td>2.0</td>\n",
       "      <td>2.0</td>\n",
       "      <td>2.0</td>\n",
       "      <td>NaN</td>\n",
       "      <td>NaN</td>\n",
       "      <td>NaN</td>\n",
       "      <td>1.0</td>\n",
       "      <td>1201.0</td>\n",
       "    </tr>\n",
       "    <tr>\n",
       "      <th>24</th>\n",
       "      <td>9</td>\n",
       "      <td>1</td>\n",
       "      <td>20.0</td>\n",
       "      <td>9.0</td>\n",
       "      <td>28.0</td>\n",
       "      <td>28.0</td>\n",
       "      <td>0.0</td>\n",
       "      <td>813.60</td>\n",
       "      <td>628.88</td>\n",
       "      <td>181.68</td>\n",
       "      <td>391.65</td>\n",
       "      <td>321.33</td>\n",
       "      <td>70.32</td>\n",
       "      <td>540.0</td>\n",
       "      <td>363.0</td>\n",
       "      <td>175.0</td>\n",
       "      <td>353.0</td>\n",
       "      <td>284.0</td>\n",
       "      <td>69.0</td>\n",
       "      <td>469.62</td>\n",
       "      <td>0.0</td>\n",
       "      <td>549.32</td>\n",
       "      <td>25841.457227</td>\n",
       "      <td>25845.000255</td>\n",
       "      <td>NaN</td>\n",
       "      <td>0.0</td>\n",
       "      <td>0.0</td>\n",
       "      <td>0.0</td>\n",
       "      <td>2.0</td>\n",
       "      <td>4.0</td>\n",
       "      <td>16.0</td>\n",
       "      <td>4.0</td>\n",
       "      <td>1.0</td>\n",
       "      <td>5.0</td>\n",
       "      <td>66.0</td>\n",
       "      <td>513.0</td>\n",
       "      <td>285.0</td>\n",
       "      <td>9.0</td>\n",
       "      <td>182.0</td>\n",
       "      <td>142.0</td>\n",
       "      <td>0.0</td>\n",
       "      <td>1.0</td>\n",
       "      <td>4.0</td>\n",
       "      <td>0.0</td>\n",
       "      <td>1.0</td>\n",
       "      <td>1.0</td>\n",
       "      <td>2.0</td>\n",
       "      <td>34688.0</td>\n",
       "    </tr>\n",
       "  </tbody>\n",
       "</table>\n",
       "</div>"
      ],
      "text/plain": [
       "    ID  MONTH_NUM_FROM_EVENT    F1     F2    F3    F4   F5      F6      F7  \\\n",
       "0    2                     1   4.0  133.0  28.0   NaN  0.0     NaN  518.98   \n",
       "6    4                     1   5.0  139.0  29.0   7.0  0.0  682.90  676.53   \n",
       "12   5                     1  20.0   19.0  22.0   0.0  1.0  137.98   55.78   \n",
       "18   8                     1  21.0  134.0  29.0  21.0  1.0  459.90  408.58   \n",
       "24   9                     1  20.0    9.0  28.0  28.0  0.0  813.60  628.88   \n",
       "\n",
       "        F8      F9     F10    F11    F12    F13    F14    F15    F16   F17  \\\n",
       "0     2.60  151.33  142.32   9.02  168.0  155.0    6.0   84.0   71.0  13.0   \n",
       "6     3.53  591.27  585.22   6.05  174.0  164.0    4.0  258.0  253.0   5.0   \n",
       "12   36.03  115.33   28.90  41.55   47.0   15.0   21.0   45.0   26.0  15.0   \n",
       "18   11.92  485.28  413.35  25.42  155.0  114.0    7.0   95.0   80.0   6.0   \n",
       "24  181.68  391.65  321.33  70.32  540.0  363.0  175.0  353.0  284.0  69.0   \n",
       "\n",
       "       F18  F19     F20           F21           F22  F23  F24  F26   F27  \\\n",
       "0      NaN  0.0   56.48    377.331409      0.000000  NaN  0.0  0.0   0.0   \n",
       "6    46.50  0.0   49.25     25.455420     13.795844  NaN  0.0  0.0   0.0   \n",
       "12    0.00  0.0  128.00      0.000000      0.000000  NaN  0.0  0.0   2.0   \n",
       "18   10.85  8.0  123.40      8.501169           NaN  NaN  0.0  1.0  21.0   \n",
       "24  469.62  0.0  549.32  25841.457227  25845.000255  NaN  0.0  0.0   0.0   \n",
       "\n",
       "     F28   F29   F30  F31  F32  F33   F34    F35    F36   F37    F38    F39  \\\n",
       "0    0.0  19.0   0.0  0.0  1.0  1.0  40.0   99.0   75.0   5.0   89.0  137.0   \n",
       "6    0.0   5.0   0.0  0.0  1.0  NaN   NaN  267.0   72.0  14.0    NaN  130.0   \n",
       "12   4.0   9.0   1.0  0.0  NaN  NaN   NaN    NaN   22.0   5.0   44.0   12.0   \n",
       "18  22.0  25.0   0.0  0.0  NaN  3.0  40.0  103.0   35.0   1.0   59.0  137.0   \n",
       "24   2.0   4.0  16.0  4.0  1.0  5.0  66.0  513.0  285.0   9.0  182.0  142.0   \n",
       "\n",
       "    F40  F41  F42  F43  F44  F45  F46      F47  \n",
       "0   0.0  2.0  2.0  1.0  0.0  0.0  2.0    958.0  \n",
       "6   2.0  2.0  4.0  0.0  2.0  0.0  1.0    866.0  \n",
       "12  0.0  0.0  0.0  2.0  0.0  0.0  1.0    146.0  \n",
       "18  2.0  2.0  2.0  NaN  NaN  NaN  1.0   1201.0  \n",
       "24  0.0  1.0  4.0  0.0  1.0  1.0  2.0  34688.0  "
      ]
     },
     "execution_count": 9,
     "metadata": {},
     "output_type": "execute_result"
    }
   ],
   "source": [
    "df_lm = df[df.MONTH_NUM_FROM_EVENT == 1] # the last month data\n",
    "df_lm.head() # notice that df doesn't include column F25"
   ]
  },
  {
   "cell_type": "code",
   "execution_count": 10,
   "metadata": {},
   "outputs": [
    {
     "data": {
      "text/plain": [
       "(12890, 46)"
      ]
     },
     "execution_count": 10,
     "metadata": {},
     "output_type": "execute_result"
    }
   ],
   "source": [
    "X = np.array(df_lm.values)[:,2:] # array of features from \n",
    "X.shape"
   ]
  },
  {
   "cell_type": "code",
   "execution_count": 11,
   "metadata": {},
   "outputs": [
    {
     "data": {
      "text/plain": [
       "(12890,)"
      ]
     },
     "execution_count": 11,
     "metadata": {},
     "output_type": "execute_result"
    }
   ],
   "source": [
    "y = np.array(obs.TARGET)\n",
    "y.shape"
   ]
  },
  {
   "cell_type": "code",
   "execution_count": 12,
   "metadata": {},
   "outputs": [],
   "source": [
    "from sklearn.model_selection import train_test_split\n",
    "X_train, X_test, y_train, y_test = train_test_split(X, y, test_size=0.2, random_state=6)"
   ]
  },
  {
   "cell_type": "code",
   "execution_count": 13,
   "metadata": {},
   "outputs": [
    {
     "name": "stdout",
     "output_type": "stream",
     "text": [
      "None\n",
      "None\n",
      "False True\n",
      "False True\n"
     ]
    }
   ],
   "source": [
    "from sklearn.utils.validation import assert_all_finite\n",
    "\n",
    "nanplaces = np.isnan(X_train)\n",
    "X_train[nanplaces] = 0\n",
    "np.any(np.isnan(X_train))\n",
    "\n",
    "nanplaces = np.isnan(X_test)\n",
    "X_test[nanplaces] = 0\n",
    "np.any(np.isnan(X_test))\n",
    "\n",
    "# run checks\n",
    "\n",
    "print(assert_all_finite(X_train))\n",
    "print(assert_all_finite(X_test))\n",
    "# should output None\n",
    "print(np.any(np.isnan(X_train)), np.all(np.isfinite(X_train))) \n",
    "print(np.any(np.isnan(X_test)), np.all(np.isfinite(X_test)))\n",
    "# should output False True\n",
    "\n"
   ]
  },
  {
   "cell_type": "code",
   "execution_count": 14,
   "metadata": {},
   "outputs": [],
   "source": [
    "from sklearn import metrics\n",
    "from sklearn.metrics import roc_auc_score\n",
    "from sklearn.metrics import confusion_matrix"
   ]
  },
  {
   "cell_type": "markdown",
   "metadata": {},
   "source": [
    "# k Nearest Neighbors Classifier"
   ]
  },
  {
   "cell_type": "code",
   "execution_count": 15,
   "metadata": {},
   "outputs": [
    {
     "name": "stdout",
     "output_type": "stream",
     "text": [
      "Train set Accuracy:  0.9289177657098526\n",
      "Test set Accuracy:  0.908844065166796\n",
      "AUC ROC score 0.5199570627876783\n",
      "[[2331   50]\n",
      " [ 185   12]]\n"
     ]
    }
   ],
   "source": [
    "from sklearn.neighbors import KNeighborsClassifier\n",
    "\n",
    "k = 3\n",
    "# Train Model and Predict\n",
    "\n",
    "neigh = KNeighborsClassifier(n_neighbors = k).fit(X_train,y_train)\n",
    "\n",
    "y_ = neigh.predict(X_test)\n",
    "match = y_ == y_test\n",
    "\n",
    "print(\"Train set Accuracy: \", metrics.accuracy_score(y_train, neigh.predict(X_train)))\n",
    "print(\"Test set Accuracy: \", metrics.accuracy_score(y_test, y_))\n",
    "print(\"AUC ROC score\", metrics.roc_auc_score(y_test, y_))\n",
    "print(confusion_matrix(y_test, y_.round()))\n"
   ]
  },
  {
   "cell_type": "markdown",
   "metadata": {},
   "source": [
    "From the confusion matrix we can see that KNN doesn't work too..."
   ]
  },
  {
   "cell_type": "markdown",
   "metadata": {},
   "source": [
    "# Multiple Linear Regression"
   ]
  },
  {
   "cell_type": "code",
   "execution_count": 16,
   "metadata": {},
   "outputs": [],
   "source": [
    "from sklearn.linear_model import LinearRegression\n",
    "\n",
    "# Train Model and Predict\n",
    "\n",
    "regr = LinearRegression().fit(X_train,y_train)\n",
    "\n",
    "y_ = regr.predict(X_test)\n",
    "match = y_ == y_test"
   ]
  },
  {
   "cell_type": "code",
   "execution_count": 17,
   "metadata": {},
   "outputs": [
    {
     "name": "stdout",
     "output_type": "stream",
     "text": [
      "AUC ROC score 0.7642376086488423\n"
     ]
    }
   ],
   "source": [
    "print(\"AUC ROC score\", metrics.roc_auc_score(y_test, y_))"
   ]
  },
  {
   "cell_type": "code",
   "execution_count": 18,
   "metadata": {},
   "outputs": [
    {
     "name": "stdout",
     "output_type": "stream",
     "text": [
      "Train set Accuracy:  0.9289177657098526\n",
      "Test set Accuracy:  0.9235841737781226\n",
      "2381 cases correctly guessed, out of 2578\n"
     ]
    }
   ],
   "source": [
    "print(\"Train set Accuracy: \", metrics.accuracy_score(y_train, neigh.predict(X_train).round()))\n",
    "print(\"Test set Accuracy: \", metrics.accuracy_score(y_test, y_.round()))\n",
    "print(sum(y_test == y_.round()), 'cases correctly guessed, out of', len(y_)) "
   ]
  },
  {
   "cell_type": "code",
   "execution_count": 19,
   "metadata": {},
   "outputs": [
    {
     "data": {
      "text/plain": [
       "array([[2381,    0],\n",
       "       [ 197,    0]])"
      ]
     },
     "execution_count": 19,
     "metadata": {},
     "output_type": "execute_result"
    }
   ],
   "source": [
    "ybin_ = np.where(y_>0.5,1,0)\n",
    "confusion_matrix(y_test, ybin_)"
   ]
  },
  {
   "cell_type": "code",
   "execution_count": 20,
   "metadata": {},
   "outputs": [],
   "source": [
    "comp = y_test != y_.round() # see mistakes"
   ]
  },
  {
   "cell_type": "code",
   "execution_count": 21,
   "metadata": {},
   "outputs": [
    {
     "data": {
      "text/plain": [
       "(array([  11,   12,   29,   58,   73,  103,  115,  117,  132,  172,  176,\n",
       "         196,  200,  211,  217,  228,  241,  272,  287,  289,  318,  332,\n",
       "         347,  399,  401,  406,  416,  450,  482,  492,  494,  523,  524,\n",
       "         562,  563,  564,  565,  585,  608,  609,  622,  647,  682,  700,\n",
       "         709,  727,  738,  758,  767,  768,  779,  786,  792,  821,  831,\n",
       "         856,  886,  888,  890,  911,  925,  936,  939,  947,  972,  974,\n",
       "         975,  992, 1012, 1015, 1034, 1044, 1052, 1064, 1069, 1077, 1082,\n",
       "        1088, 1104, 1117, 1120, 1121, 1122, 1125, 1169, 1177, 1180, 1190,\n",
       "        1214, 1237, 1241, 1243, 1259, 1262, 1290, 1300, 1312, 1349, 1352,\n",
       "        1363, 1377, 1388, 1400, 1407, 1427, 1429, 1435, 1451, 1457, 1458,\n",
       "        1464, 1481, 1529, 1539, 1542, 1543, 1577, 1579, 1584, 1587, 1614,\n",
       "        1622, 1628, 1636, 1643, 1657, 1661, 1669, 1670, 1672, 1684, 1688,\n",
       "        1690, 1698, 1699, 1745, 1763, 1818, 1850, 1853, 1860, 1869, 1876,\n",
       "        1883, 1886, 1887, 1901, 1921, 1930, 1943, 1956, 2000, 2007, 2014,\n",
       "        2020, 2030, 2047, 2053, 2068, 2073, 2076, 2116, 2147, 2154, 2159,\n",
       "        2165, 2189, 2238, 2252, 2253, 2268, 2288, 2310, 2312, 2327, 2341,\n",
       "        2353, 2356, 2365, 2366, 2374, 2392, 2396, 2413, 2432, 2443, 2467,\n",
       "        2491, 2502, 2504, 2530, 2534, 2536, 2549, 2552, 2556, 2564]),)"
      ]
     },
     "execution_count": 21,
     "metadata": {},
     "output_type": "execute_result"
    }
   ],
   "source": [
    "itemindex = np.where(comp==True)\n",
    "itemindex"
   ]
  },
  {
   "cell_type": "code",
   "execution_count": 22,
   "metadata": {},
   "outputs": [
    {
     "data": {
      "text/plain": [
       "[[1.0, 0.13966153614344126], [1.0, 0.22069578019160271]]"
      ]
     },
     "execution_count": 22,
     "metadata": {},
     "output_type": "execute_result"
    }
   ],
   "source": [
    "[\n",
    "    [y_test[12], y_[12]], # a mistake!\n",
    "    [y_test[2502], y_[2502]], # too\n",
    "]  "
   ]
  },
  {
   "cell_type": "markdown",
   "metadata": {},
   "source": [
    "> Maybe I should lower threshold (replace ```round()``` with ```1 if p>0.4 else 0```)..."
   ]
  },
  {
   "cell_type": "markdown",
   "metadata": {},
   "source": [
    "Well, linear regression misses all churn... __open__...<!-- The score of the model that says there is NO people who churn is slighly less than 0.8 -that may be a lie-->"
   ]
  },
  {
   "cell_type": "markdown",
   "metadata": {},
   "source": [
    "# Logistic Regression"
   ]
  },
  {
   "cell_type": "markdown",
   "metadata": {},
   "source": [
    "We normalize the dataset:"
   ]
  },
  {
   "cell_type": "code",
   "execution_count": 23,
   "metadata": {},
   "outputs": [
    {
     "name": "stdout",
     "output_type": "stream",
     "text": [
      "None\n",
      "False True\n"
     ]
    }
   ],
   "source": [
    "from sklearn.utils.validation import assert_all_finite\n",
    "\n",
    "nanplaces = np.isnan(X)\n",
    "X[nanplaces] = 0\n",
    "\n",
    "# run checks\n",
    "print(assert_all_finite(X))\n",
    "# should output None\n",
    "print(np.any(np.isnan(X)), np.all(np.isfinite(X))) \n",
    "# should output False True"
   ]
  },
  {
   "cell_type": "code",
   "execution_count": 24,
   "metadata": {},
   "outputs": [],
   "source": [
    "from sklearn import preprocessing\n",
    "X = preprocessing.StandardScaler().fit(X).transform(X)"
   ]
  },
  {
   "cell_type": "code",
   "execution_count": 25,
   "metadata": {},
   "outputs": [
    {
     "name": "stdout",
     "output_type": "stream",
     "text": [
      "Train set: (10312, 46) (10312,)\n",
      "Test set: (2578, 46) (2578,)\n"
     ]
    }
   ],
   "source": [
    "from sklearn.model_selection import train_test_split\n",
    "X_train, X_test, y_train, y_test = train_test_split( X, y, test_size=0.2, random_state=4)\n",
    "print ('Train set:', X_train.shape,  y_train.shape)\n",
    "print ('Test set:', X_test.shape,  y_test.shape)"
   ]
  },
  {
   "cell_type": "code",
   "execution_count": 26,
   "metadata": {},
   "outputs": [],
   "source": [
    "from sklearn.linear_model import LogisticRegression\n",
    "\n",
    "LR = LogisticRegression(C=0.01, solver='liblinear').fit(X_train,y_train)"
   ]
  },
  {
   "cell_type": "code",
   "execution_count": 27,
   "metadata": {},
   "outputs": [
    {
     "data": {
      "text/plain": [
       "((2578,), (2578,))"
      ]
     },
     "execution_count": 27,
     "metadata": {},
     "output_type": "execute_result"
    }
   ],
   "source": [
    "y_prob_ = LR.predict_proba(X_test)[:,1]\n",
    "y_ = LR.predict(X_test)\n",
    "y_prob_.shape, y_.shape"
   ]
  },
  {
   "cell_type": "code",
   "execution_count": 28,
   "metadata": {},
   "outputs": [
    {
     "data": {
      "text/plain": [
       "0.9208688906128782"
      ]
     },
     "execution_count": 28,
     "metadata": {},
     "output_type": "execute_result"
    }
   ],
   "source": [
    "from sklearn.metrics import jaccard_similarity_score\n",
    "jaccard_similarity_score(y_test, y_)"
   ]
  },
  {
   "cell_type": "code",
   "execution_count": 29,
   "metadata": {},
   "outputs": [
    {
     "data": {
      "text/plain": [
       "array([[   2,  204],\n",
       "       [   0, 2372]])"
      ]
     },
     "execution_count": 29,
     "metadata": {},
     "output_type": "execute_result"
    }
   ],
   "source": [
    "confusion_matrix(y_test, y_, labels=[1,0])"
   ]
  },
  {
   "cell_type": "code",
   "execution_count": 30,
   "metadata": {},
   "outputs": [
    {
     "name": "stdout",
     "output_type": "stream",
     "text": [
      "             precision    recall  f1-score   support\n",
      "\n",
      "        0.0       0.92      1.00      0.96      2372\n",
      "        1.0       1.00      0.01      0.02       206\n",
      "\n",
      "avg / total       0.93      0.92      0.88      2578\n",
      "\n"
     ]
    }
   ],
   "source": [
    "from sklearn.metrics import classification_report\n",
    "print(classification_report(y_test, y_))"
   ]
  },
  {
   "cell_type": "code",
   "execution_count": 31,
   "metadata": {},
   "outputs": [
    {
     "name": "stdout",
     "output_type": "stream",
     "text": [
      "AUC ROC score 0.5048543689320388\n"
     ]
    }
   ],
   "source": [
    "print(\"AUC ROC score\", metrics.roc_auc_score(y_test, y_))"
   ]
  },
  {
   "cell_type": "code",
   "execution_count": 32,
   "metadata": {},
   "outputs": [
    {
     "name": "stdout",
     "output_type": "stream",
     "text": [
      "AUC ROC score 0.7559308436614877\n"
     ]
    }
   ],
   "source": [
    "print(\"AUC ROC score\", metrics.roc_auc_score(y_test, y_prob_))"
   ]
  },
  {
   "cell_type": "code",
   "execution_count": 33,
   "metadata": {},
   "outputs": [
    {
     "data": {
      "text/plain": [
       "0.25282770149405903"
      ]
     },
     "execution_count": 33,
     "metadata": {},
     "output_type": "execute_result"
    }
   ],
   "source": [
    "from sklearn.metrics import log_loss\n",
    "log_loss(y_test, y_prob_)"
   ]
  },
  {
   "cell_type": "code",
   "execution_count": 34,
   "metadata": {},
   "outputs": [
    {
     "data": {
      "text/plain": [
       "(0.07990690457719161, 2578)"
      ]
     },
     "execution_count": 34,
     "metadata": {},
     "output_type": "execute_result"
    }
   ],
   "source": [
    "sum(y_test)/len(y_test), len(y_test)"
   ]
  },
  {
   "cell_type": "code",
   "execution_count": 35,
   "metadata": {},
   "outputs": [
    {
     "name": "stdout",
     "output_type": "stream",
     "text": [
      "AUC ROC score 0.5\n"
     ]
    },
    {
     "data": {
      "text/plain": [
       "2.759886709601087"
      ]
     },
     "execution_count": 35,
     "metadata": {},
     "output_type": "execute_result"
    }
   ],
   "source": [
    "print(\"AUC ROC score\", metrics.roc_auc_score(y_test, np.zeros(2578)))\n",
    "log_loss(y_test, np.zeros(2578))"
   ]
  }
 ],
 "metadata": {
  "kernelspec": {
   "display_name": "Python 3",
   "language": "python",
   "name": "python3"
  },
  "language_info": {
   "codemirror_mode": {
    "name": "ipython",
    "version": 3
   },
   "file_extension": ".py",
   "mimetype": "text/x-python",
   "name": "python",
   "nbconvert_exporter": "python",
   "pygments_lexer": "ipython3",
   "version": "3.7.0"
  }
 },
 "nbformat": 4,
 "nbformat_minor": 2
}

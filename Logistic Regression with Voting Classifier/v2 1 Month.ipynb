{
 "cells": [
  {
   "cell_type": "code",
   "execution_count": 1,
   "metadata": {},
   "outputs": [
    {
     "name": "stdout",
     "output_type": "stream",
     "text": [
      "None\n",
      "False True\n"
     ]
    }
   ],
   "source": [
    "import pandas as pd\n",
    "import numpy as np\n",
    "from sklearn.metrics import roc_auc_score\n",
    "from sklearn.metrics import confusion_matrix\n",
    "# load dataset\n",
    "\n",
    "df_original = pd.read_csv('Data_features.csv') # feature set\n",
    "obs = pd.read_csv('Data_train_set.csv') # User ID, Churn\n",
    "est = pd.read_csv('Data_test_set.csv')  # User ID to predict Churn\n",
    "obs_id = obs['ID'].values # IDs in factual data\n",
    "est_id = est['ID'].values # IDs to analyse\n",
    "df = df_original[df_original.ID.isin(obs_id)] # df for training\n",
    "df_lm = df[df.MONTH_NUM_FROM_EVENT == 1] # the last month data\n",
    "X = np.array(df_lm.values)[:,2:] # array of features from \n",
    "y = np.array(obs.TARGET)\n",
    "\n",
    "from sklearn.utils.validation import assert_all_finite\n",
    "nanplaces = np.isnan(X)\n",
    "X[nanplaces] = 0\n",
    "# run checks\n",
    "print(assert_all_finite(X))\n",
    "# should output None\n",
    "print(np.any(np.isnan(X)), np.all(np.isfinite(X))) \n",
    "# should output False True"
   ]
  },
  {
   "cell_type": "code",
   "execution_count": 2,
   "metadata": {},
   "outputs": [],
   "source": [
    "from sklearn.model_selection import train_test_split\n",
    "X_train, X_test, y_train, y_test = train_test_split(X, y, test_size=0.2, random_state=6)"
   ]
  },
  {
   "cell_type": "code",
   "execution_count": 3,
   "metadata": {},
   "outputs": [],
   "source": [
    "from sklearn.linear_model import LogisticRegression"
   ]
  },
  {
   "cell_type": "code",
   "execution_count": 5,
   "metadata": {},
   "outputs": [
    {
     "name": "stdout",
     "output_type": "stream",
     "text": [
      "C = 0.01 using newton-cg solver\n",
      "[[   2  195]\n",
      " [   3 2378]]\n",
      "AUC ROC score 0.7717420270883921\n",
      "C = 0.01 using lbfgs solver\n",
      "[[   4  193]\n",
      " [   3 2378]]\n",
      "AUC ROC score 0.7663866012019861\n",
      "C = 0.01 using liblinear solver\n",
      "[[   4  193]\n",
      " [   3 2378]]\n",
      "AUC ROC score 0.7682499141895336\n",
      "C = 0.01 using sag solver\n",
      "[[   1  196]\n",
      " [   3 2378]]\n",
      "AUC ROC score 0.7003200037522093\n",
      "C = 0.01 using saga solver\n",
      "[[   1  196]\n",
      " [   2 2379]]\n",
      "AUC ROC score 0.6937898805475667\n"
     ]
    }
   ],
   "source": [
    "C = 0.01\n",
    "for solver in ['newton-cg', 'lbfgs', 'liblinear', 'sag', 'saga']:\n",
    "    LR = LogisticRegression(C=0.2, solver=solver, max_iter=8000)\n",
    "    LR.fit(X_train,y_train)\n",
    "    y_prob_ = LR.predict_proba(X_test)[:,1]\n",
    "    y_ = LR.predict(X_test)\n",
    "    print('C =', C, 'using', solver, 'solver')\n",
    "    print(confusion_matrix(y_test, y_, labels=[1,0]))\n",
    "    print(\"AUC ROC score\", roc_auc_score(y_test, y_prob_))"
   ]
  },
  {
   "cell_type": "code",
   "execution_count": 6,
   "metadata": {},
   "outputs": [
    {
     "name": "stdout",
     "output_type": "stream",
     "text": [
      "C = 0.01 using newton-cg solver\n",
      "[[   2  195]\n",
      " [   3 2378]]\n",
      "AUC ROC score 0.7720810050804061\n",
      "C = 0.01 using lbfgs solver\n",
      "[[   5  192]\n",
      " [   3 2378]]\n",
      "AUC ROC score 0.7621930810114761\n",
      "C = 0.01 using liblinear solver\n",
      "[[   4  193]\n",
      " [   3 2378]]\n",
      "AUC ROC score 0.7596837910957518\n"
     ]
    }
   ],
   "source": [
    "for solver in ['newton-cg', 'lbfgs', 'liblinear']:\n",
    "    LR = LogisticRegression(C=0.021, solver=solver, max_iter=8000)\n",
    "    LR.fit(X_train,y_train)\n",
    "    y_prob_ = LR.predict_proba(X_test)[:,1]\n",
    "    y_ = LR.predict(X_test)\n",
    "    print('C =', C, 'using', solver, 'solver')\n",
    "    print(confusion_matrix(y_test, y_, labels=[1,0]))\n",
    "    print(\"AUC ROC score\", roc_auc_score(y_test, y_prob_))"
   ]
  }
 ],
 "metadata": {
  "kernelspec": {
   "display_name": "Python 3",
   "language": "python",
   "name": "python3"
  },
  "language_info": {
   "codemirror_mode": {
    "name": "ipython",
    "version": 3
   },
   "file_extension": ".py",
   "mimetype": "text/x-python",
   "name": "python",
   "nbconvert_exporter": "python",
   "pygments_lexer": "ipython3",
   "version": "3.7.0"
  }
 },
 "nbformat": 4,
 "nbformat_minor": 2
}

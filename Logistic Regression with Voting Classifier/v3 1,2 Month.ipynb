{
 "cells": [
  {
   "cell_type": "code",
   "execution_count": 1,
   "metadata": {},
   "outputs": [],
   "source": [
    "import pandas as pd\n",
    "pd.options.display.max_columns = None # display all the columns\n",
    "import numpy as np\n",
    "from sklearn.metrics import roc_auc_score\n",
    "from sklearn.metrics import confusion_matrix\n",
    "\n",
    "# load dataset\n",
    "\n",
    "df_original = pd.read_csv('Data_features.csv') # feature set\n",
    "obs = pd.read_csv('Data_train_set.csv') # User ID, Churn\n",
    "est = pd.read_csv('Data_test_set.csv')  # User ID to predict Churn\n",
    "obs_id = obs['ID'].values # IDs in factual data\n",
    "est_id = est['ID'].values # IDs to analyse\n",
    "df = df_original[df_original.ID.isin(obs_id)] # df for training\n",
    "df_lm = df[df.MONTH_NUM_FROM_EVENT == 1] # the last month data\n",
    "\n",
    "df_blm = df[df.MONTH_NUM_FROM_EVENT == 2] # the month before the last month data"
   ]
  },
  {
   "cell_type": "code",
   "execution_count": 2,
   "metadata": {},
   "outputs": [],
   "source": [
    "d = { e: '2' + e for e in list(df_blm.columns)[2:]}\n",
    "df_blm_ren = df_blm.rename(index=str, columns=d)"
   ]
  },
  {
   "cell_type": "code",
   "execution_count": 3,
   "metadata": {},
   "outputs": [],
   "source": [
    "# pd.concat([df_lm, df_blm.drop('ID')]\n",
    "df_blm_drop = df_blm_ren.drop(['ID', 'MONTH_NUM_FROM_EVENT'], axis=1)"
   ]
  },
  {
   "cell_type": "code",
   "execution_count": 4,
   "metadata": {},
   "outputs": [],
   "source": [
    "df_2 = pd.concat([df_lm.reset_index(drop=True), df_blm_drop.reset_index(drop=True)], axis=1)"
   ]
  },
  {
   "cell_type": "code",
   "execution_count": 5,
   "metadata": {},
   "outputs": [
    {
     "data": {
      "text/plain": [
       "((12890, 46), (12890, 46))"
      ]
     },
     "execution_count": 5,
     "metadata": {},
     "output_type": "execute_result"
    }
   ],
   "source": [
    "X_1 = df_lm.drop(['ID', 'MONTH_NUM_FROM_EVENT'], axis=1).values\n",
    "X_2 = np.array(df_blm_drop.values)\n",
    "X_1.shape, X_2.shape"
   ]
  },
  {
   "cell_type": "code",
   "execution_count": 6,
   "metadata": {},
   "outputs": [
    {
     "name": "stdout",
     "output_type": "stream",
     "text": [
      "None\n",
      "False True\n"
     ]
    },
    {
     "data": {
      "text/plain": [
       "(12890, 92)"
      ]
     },
     "execution_count": 6,
     "metadata": {},
     "output_type": "execute_result"
    }
   ],
   "source": [
    "X = np.array(df_2.values)[:,2:] # array of features from \n",
    "y = np.array(obs.TARGET)\n",
    "\n",
    "X = np.concatenate((X_1, X_2), axis=1)\n",
    "from sklearn.utils.validation import assert_all_finite\n",
    "nanplaces = np.isnan(X)\n",
    "X[nanplaces] = 0.01\n",
    "# run checks\n",
    "print(assert_all_finite(X))\n",
    "# should output None\n",
    "print(np.any(np.isnan(X)), np.all(np.isfinite(X))) \n",
    "# should output False True\n",
    "X.shape"
   ]
  },
  {
   "cell_type": "code",
   "execution_count": 7,
   "metadata": {},
   "outputs": [],
   "source": [
    "from sklearn import preprocessing\n",
    "X = preprocessing.StandardScaler().fit(X).transform(X)\n",
    "\n",
    "from sklearn.linear_model import LogisticRegression\n",
    "from sklearn.model_selection import train_test_split\n",
    "X_train, X_test, y_train, y_test = train_test_split(X, y, test_size=0.2, random_state=6)"
   ]
  },
  {
   "cell_type": "code",
   "execution_count": 8,
   "metadata": {},
   "outputs": [
    {
     "name": "stdout",
     "output_type": "stream",
     "text": [
      "C = 0.2 using liblinear solver\n",
      "[[   3  194]\n",
      " [   2 2379]]\n",
      "AUC ROC score 0.7662821362862083\n"
     ]
    }
   ],
   "source": [
    "# for solver in ['newton-cg', 'lbfgs', 'liblinear', 'sag', 'saga']:\n",
    "C = 0.2\n",
    "LR = LogisticRegression(C=C, solver='liblinear', max_iter=4000)\n",
    "LR.fit(X_train,y_train)\n",
    "y_prob_ = LR.predict_proba(X_test)[:,1]\n",
    "y_ = LR.predict(X_test)\n",
    "print('C =', C, 'using', 'liblinear', 'solver')\n",
    "print(confusion_matrix(y_test, y_, labels=[1,0]))\n",
    "print(\"AUC ROC score\", roc_auc_score(y_test, y_prob_))"
   ]
  }
 ],
 "metadata": {
  "kernelspec": {
   "display_name": "Python 3",
   "language": "python",
   "name": "python3"
  },
  "language_info": {
   "codemirror_mode": {
    "name": "ipython",
    "version": 3
   },
   "file_extension": ".py",
   "mimetype": "text/x-python",
   "name": "python",
   "nbconvert_exporter": "python",
   "pygments_lexer": "ipython3",
   "version": "3.7.0"
  }
 },
 "nbformat": 4,
 "nbformat_minor": 2
}

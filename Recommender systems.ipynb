{
 "cells": [
  {
   "cell_type": "markdown",
   "metadata": {},
   "source": [
    "* suggestions (food, jobs, connections)\n",
    "* personalization\n",
    "\n",
    "* broader exposure\n",
    "* continual purchase\n",
    "* better experience\n",
    "\n",
    "\n",
    "\"Show me more of the same of what I've liked before\"\n",
    "\n",
    "\"Tell me what's popular among my neighbors, I also might like it\""
   ]
  },
  {
   "cell_type": "code",
   "execution_count": null,
   "metadata": {},
   "outputs": [],
   "source": []
  }
 ],
 "metadata": {
  "kernelspec": {
   "display_name": "Python 3",
   "language": "python",
   "name": "python3"
  },
  "language_info": {
   "codemirror_mode": {
    "name": "ipython",
    "version": 3
   },
   "file_extension": ".py",
   "mimetype": "text/x-python",
   "name": "python",
   "nbconvert_exporter": "python",
   "pygments_lexer": "ipython3",
   "version": "3.7.0"
  }
 },
 "nbformat": 4,
 "nbformat_minor": 2
}
